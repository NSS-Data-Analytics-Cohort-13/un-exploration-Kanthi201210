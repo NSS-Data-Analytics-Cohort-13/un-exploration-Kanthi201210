{
 "cells": [
  {
   "cell_type": "markdown",
   "id": "00a7e9ec-5d95-4234-9a16-9a379dc5ff18",
   "metadata": {},
   "source": [
    "## Import Packages"
   ]
  },
  {
   "cell_type": "code",
   "execution_count": 2,
   "id": "75a85738-f78d-4d53-ac51-ce486470ec46",
   "metadata": {},
   "outputs": [],
   "source": [
    "import pandas as pd\n",
    "import numpy as np\n",
    "import matplotlib.pyplot as plt\n",
    "import seaborn as sns"
   ]
  },
  {
   "cell_type": "markdown",
   "id": "a6efabba-d179-4479-8def-f763afae58ec",
   "metadata": {},
   "source": [
    "## 4.Using the pandas read_csv() method, read the GDP dataset into your notebook as a DataFrame called gdp_df."
   ]
  },
  {
   "cell_type": "code",
   "execution_count": 4,
   "id": "fd8519a1-c3a7-47a9-aa0a-9c6aa05b904f",
   "metadata": {
    "scrolled": true
   },
   "outputs": [
    {
     "data": {
      "text/html": [
       "<div>\n",
       "<style scoped>\n",
       "    .dataframe tbody tr th:only-of-type {\n",
       "        vertical-align: middle;\n",
       "    }\n",
       "\n",
       "    .dataframe tbody tr th {\n",
       "        vertical-align: top;\n",
       "    }\n",
       "\n",
       "    .dataframe thead th {\n",
       "        text-align: right;\n",
       "    }\n",
       "</style>\n",
       "<table border=\"1\" class=\"dataframe\">\n",
       "  <thead>\n",
       "    <tr style=\"text-align: right;\">\n",
       "      <th></th>\n",
       "      <th>Country or Area</th>\n",
       "      <th>Year</th>\n",
       "      <th>Value</th>\n",
       "      <th>Value Footnotes</th>\n",
       "    </tr>\n",
       "  </thead>\n",
       "  <tbody>\n",
       "    <tr>\n",
       "      <th>0</th>\n",
       "      <td>Afghanistan</td>\n",
       "      <td>2021</td>\n",
       "      <td>1517.016266</td>\n",
       "      <td>NaN</td>\n",
       "    </tr>\n",
       "    <tr>\n",
       "      <th>1</th>\n",
       "      <td>Afghanistan</td>\n",
       "      <td>2020</td>\n",
       "      <td>1968.341002</td>\n",
       "      <td>NaN</td>\n",
       "    </tr>\n",
       "    <tr>\n",
       "      <th>2</th>\n",
       "      <td>Afghanistan</td>\n",
       "      <td>2019</td>\n",
       "      <td>2079.921861</td>\n",
       "      <td>NaN</td>\n",
       "    </tr>\n",
       "    <tr>\n",
       "      <th>3</th>\n",
       "      <td>Afghanistan</td>\n",
       "      <td>2018</td>\n",
       "      <td>2060.698973</td>\n",
       "      <td>NaN</td>\n",
       "    </tr>\n",
       "    <tr>\n",
       "      <th>4</th>\n",
       "      <td>Afghanistan</td>\n",
       "      <td>2017</td>\n",
       "      <td>2096.093111</td>\n",
       "      <td>NaN</td>\n",
       "    </tr>\n",
       "    <tr>\n",
       "      <th>...</th>\n",
       "      <td>...</td>\n",
       "      <td>...</td>\n",
       "      <td>...</td>\n",
       "      <td>...</td>\n",
       "    </tr>\n",
       "    <tr>\n",
       "      <th>7657</th>\n",
       "      <td>Zimbabwe</td>\n",
       "      <td>1994</td>\n",
       "      <td>2670.106615</td>\n",
       "      <td>NaN</td>\n",
       "    </tr>\n",
       "    <tr>\n",
       "      <th>7658</th>\n",
       "      <td>Zimbabwe</td>\n",
       "      <td>1993</td>\n",
       "      <td>2458.783255</td>\n",
       "      <td>NaN</td>\n",
       "    </tr>\n",
       "    <tr>\n",
       "      <th>7659</th>\n",
       "      <td>Zimbabwe</td>\n",
       "      <td>1992</td>\n",
       "      <td>2468.278257</td>\n",
       "      <td>NaN</td>\n",
       "    </tr>\n",
       "    <tr>\n",
       "      <th>7660</th>\n",
       "      <td>Zimbabwe</td>\n",
       "      <td>1991</td>\n",
       "      <td>2781.787843</td>\n",
       "      <td>NaN</td>\n",
       "    </tr>\n",
       "    <tr>\n",
       "      <th>7661</th>\n",
       "      <td>Zimbabwe</td>\n",
       "      <td>1990</td>\n",
       "      <td>2704.757299</td>\n",
       "      <td>NaN</td>\n",
       "    </tr>\n",
       "  </tbody>\n",
       "</table>\n",
       "<p>7662 rows × 4 columns</p>\n",
       "</div>"
      ],
      "text/plain": [
       "     Country or Area  Year        Value  Value Footnotes\n",
       "0        Afghanistan  2021  1517.016266              NaN\n",
       "1        Afghanistan  2020  1968.341002              NaN\n",
       "2        Afghanistan  2019  2079.921861              NaN\n",
       "3        Afghanistan  2018  2060.698973              NaN\n",
       "4        Afghanistan  2017  2096.093111              NaN\n",
       "...              ...   ...          ...              ...\n",
       "7657        Zimbabwe  1994  2670.106615              NaN\n",
       "7658        Zimbabwe  1993  2458.783255              NaN\n",
       "7659        Zimbabwe  1992  2468.278257              NaN\n",
       "7660        Zimbabwe  1991  2781.787843              NaN\n",
       "7661        Zimbabwe  1990  2704.757299              NaN\n",
       "\n",
       "[7662 rows x 4 columns]"
      ]
     },
     "execution_count": 4,
     "metadata": {},
     "output_type": "execute_result"
    }
   ],
   "source": [
    "pd.read_csv(\"../data/gdp_percapita.csv.csv\")"
   ]
  },
  {
   "cell_type": "code",
   "execution_count": 5,
   "id": "68db0e76-2813-461c-aa99-d1e55029ffe5",
   "metadata": {},
   "outputs": [],
   "source": [
    "gdp_df=pd.read_csv(\"../data/gdp_percapita.csv.csv\")"
   ]
  },
  {
   "cell_type": "markdown",
   "id": "aa480e68-2233-471b-89a0-fe5f44dc86be",
   "metadata": {},
   "source": [
    "## 5. How many rows and columns are in gdp_df? What are the data types of each column? 7662 rows x 4 columns"
   ]
  },
  {
   "cell_type": "code",
   "execution_count": 7,
   "id": "b8cf5063-944c-4e8a-9556-31ea993ed3b2",
   "metadata": {},
   "outputs": [],
   "source": [
    "### gdp_df.shape"
   ]
  },
  {
   "cell_type": "code",
   "execution_count": 8,
   "id": "f378a846-c532-41cd-8d6c-f746fcee6ea7",
   "metadata": {},
   "outputs": [
    {
     "name": "stdout",
     "output_type": "stream",
     "text": [
      "The DataFrame has 7662 rows.\n",
      "The DataFrame as 4 rows.\n"
     ]
    }
   ],
   "source": [
    "pd.read_csv(\"../data/gdp_percapita.csv.csv\")\n",
    "row_count = gdp_df.shape[0]\n",
    "column_count = gdp_df.shape[1]\n",
    "print(f'The DataFrame has {row_count} rows.')\n",
    "print(f'The DataFrame as {column_count} rows.')"
   ]
  },
  {
   "cell_type": "markdown",
   "id": "c6f375e0-50d7-42ef-aef3-9660e407dd1e",
   "metadata": {},
   "source": [
    "## 6. Drop the Value Footnotes column and rename the remaining three to 'Country', 'Year', and 'GDP_Per_Capita'.\n"
   ]
  },
  {
   "cell_type": "markdown",
   "id": "5759fe98-7f1e-4906-b5f5-35d81692479e",
   "metadata": {},
   "source": [
    "#### (A) Drop the Value Footnotes column:\n",
    "##### df = df.drop('column_name', axis=1) \n",
    "###### -where 1 is the axis number (0 for rows and 1 for columns.)\n",
    "##### **Dibran's alternative: gdp_df.drop(columns - ['Value Footnotes'])\n",
    "##### **Mike's alternative: gdp_df.drop('column_name', axis='columns') \n",
    "##### To save to dataframe, gdp_df = "
   ]
  },
  {
   "cell_type": "code",
   "execution_count": 11,
   "id": "9b423ca1-2882-4492-a2dd-6659a696c381",
   "metadata": {},
   "outputs": [
    {
     "data": {
      "text/html": [
       "<div>\n",
       "<style scoped>\n",
       "    .dataframe tbody tr th:only-of-type {\n",
       "        vertical-align: middle;\n",
       "    }\n",
       "\n",
       "    .dataframe tbody tr th {\n",
       "        vertical-align: top;\n",
       "    }\n",
       "\n",
       "    .dataframe thead th {\n",
       "        text-align: right;\n",
       "    }\n",
       "</style>\n",
       "<table border=\"1\" class=\"dataframe\">\n",
       "  <thead>\n",
       "    <tr style=\"text-align: right;\">\n",
       "      <th></th>\n",
       "      <th>Country or Area</th>\n",
       "      <th>Year</th>\n",
       "      <th>Value</th>\n",
       "    </tr>\n",
       "  </thead>\n",
       "  <tbody>\n",
       "    <tr>\n",
       "      <th>0</th>\n",
       "      <td>Afghanistan</td>\n",
       "      <td>2021</td>\n",
       "      <td>1517.016266</td>\n",
       "    </tr>\n",
       "    <tr>\n",
       "      <th>1</th>\n",
       "      <td>Afghanistan</td>\n",
       "      <td>2020</td>\n",
       "      <td>1968.341002</td>\n",
       "    </tr>\n",
       "    <tr>\n",
       "      <th>2</th>\n",
       "      <td>Afghanistan</td>\n",
       "      <td>2019</td>\n",
       "      <td>2079.921861</td>\n",
       "    </tr>\n",
       "    <tr>\n",
       "      <th>3</th>\n",
       "      <td>Afghanistan</td>\n",
       "      <td>2018</td>\n",
       "      <td>2060.698973</td>\n",
       "    </tr>\n",
       "    <tr>\n",
       "      <th>4</th>\n",
       "      <td>Afghanistan</td>\n",
       "      <td>2017</td>\n",
       "      <td>2096.093111</td>\n",
       "    </tr>\n",
       "    <tr>\n",
       "      <th>...</th>\n",
       "      <td>...</td>\n",
       "      <td>...</td>\n",
       "      <td>...</td>\n",
       "    </tr>\n",
       "    <tr>\n",
       "      <th>7657</th>\n",
       "      <td>Zimbabwe</td>\n",
       "      <td>1994</td>\n",
       "      <td>2670.106615</td>\n",
       "    </tr>\n",
       "    <tr>\n",
       "      <th>7658</th>\n",
       "      <td>Zimbabwe</td>\n",
       "      <td>1993</td>\n",
       "      <td>2458.783255</td>\n",
       "    </tr>\n",
       "    <tr>\n",
       "      <th>7659</th>\n",
       "      <td>Zimbabwe</td>\n",
       "      <td>1992</td>\n",
       "      <td>2468.278257</td>\n",
       "    </tr>\n",
       "    <tr>\n",
       "      <th>7660</th>\n",
       "      <td>Zimbabwe</td>\n",
       "      <td>1991</td>\n",
       "      <td>2781.787843</td>\n",
       "    </tr>\n",
       "    <tr>\n",
       "      <th>7661</th>\n",
       "      <td>Zimbabwe</td>\n",
       "      <td>1990</td>\n",
       "      <td>2704.757299</td>\n",
       "    </tr>\n",
       "  </tbody>\n",
       "</table>\n",
       "<p>7662 rows × 3 columns</p>\n",
       "</div>"
      ],
      "text/plain": [
       "     Country or Area  Year        Value\n",
       "0        Afghanistan  2021  1517.016266\n",
       "1        Afghanistan  2020  1968.341002\n",
       "2        Afghanistan  2019  2079.921861\n",
       "3        Afghanistan  2018  2060.698973\n",
       "4        Afghanistan  2017  2096.093111\n",
       "...              ...   ...          ...\n",
       "7657        Zimbabwe  1994  2670.106615\n",
       "7658        Zimbabwe  1993  2458.783255\n",
       "7659        Zimbabwe  1992  2468.278257\n",
       "7660        Zimbabwe  1991  2781.787843\n",
       "7661        Zimbabwe  1990  2704.757299\n",
       "\n",
       "[7662 rows x 3 columns]"
      ]
     },
     "execution_count": 11,
     "metadata": {},
     "output_type": "execute_result"
    }
   ],
   "source": [
    "gdp_df.drop('Value Footnotes', axis=1)"
   ]
  },
  {
   "cell_type": "markdown",
   "id": "70b7ce22-8f0c-48f3-92b2-40ad48100eb9",
   "metadata": {},
   "source": [
    "#### (B)Rename the remaining three to 'Country', 'Year', and 'GDP_Per_Capita'.\n",
    "##### gdp_df.rename(columns = {'x':'New name' 'y', 'New Name': 'z', 'New Name'})\n",
    "##### **Dibran's alternative: df.columns = ['Country', 'Year', and 'GDP_Per_Capita']\n",
    "###### Dibran's alternative requires renaming all columns (it cannot be used if not addressing every single column)"
   ]
  },
  {
   "cell_type": "code",
   "execution_count": 13,
   "id": "4ca5f3fd-34e3-42d6-a685-1fec8428ef80",
   "metadata": {},
   "outputs": [
    {
     "data": {
      "text/html": [
       "<div>\n",
       "<style scoped>\n",
       "    .dataframe tbody tr th:only-of-type {\n",
       "        vertical-align: middle;\n",
       "    }\n",
       "\n",
       "    .dataframe tbody tr th {\n",
       "        vertical-align: top;\n",
       "    }\n",
       "\n",
       "    .dataframe thead th {\n",
       "        text-align: right;\n",
       "    }\n",
       "</style>\n",
       "<table border=\"1\" class=\"dataframe\">\n",
       "  <thead>\n",
       "    <tr style=\"text-align: right;\">\n",
       "      <th></th>\n",
       "      <th>Country</th>\n",
       "      <th>Year</th>\n",
       "      <th>GDP_Per_Capita</th>\n",
       "      <th>Value Footnotes</th>\n",
       "    </tr>\n",
       "  </thead>\n",
       "  <tbody>\n",
       "    <tr>\n",
       "      <th>0</th>\n",
       "      <td>Afghanistan</td>\n",
       "      <td>2021</td>\n",
       "      <td>1517.016266</td>\n",
       "      <td>NaN</td>\n",
       "    </tr>\n",
       "    <tr>\n",
       "      <th>1</th>\n",
       "      <td>Afghanistan</td>\n",
       "      <td>2020</td>\n",
       "      <td>1968.341002</td>\n",
       "      <td>NaN</td>\n",
       "    </tr>\n",
       "    <tr>\n",
       "      <th>2</th>\n",
       "      <td>Afghanistan</td>\n",
       "      <td>2019</td>\n",
       "      <td>2079.921861</td>\n",
       "      <td>NaN</td>\n",
       "    </tr>\n",
       "    <tr>\n",
       "      <th>3</th>\n",
       "      <td>Afghanistan</td>\n",
       "      <td>2018</td>\n",
       "      <td>2060.698973</td>\n",
       "      <td>NaN</td>\n",
       "    </tr>\n",
       "    <tr>\n",
       "      <th>4</th>\n",
       "      <td>Afghanistan</td>\n",
       "      <td>2017</td>\n",
       "      <td>2096.093111</td>\n",
       "      <td>NaN</td>\n",
       "    </tr>\n",
       "    <tr>\n",
       "      <th>...</th>\n",
       "      <td>...</td>\n",
       "      <td>...</td>\n",
       "      <td>...</td>\n",
       "      <td>...</td>\n",
       "    </tr>\n",
       "    <tr>\n",
       "      <th>7657</th>\n",
       "      <td>Zimbabwe</td>\n",
       "      <td>1994</td>\n",
       "      <td>2670.106615</td>\n",
       "      <td>NaN</td>\n",
       "    </tr>\n",
       "    <tr>\n",
       "      <th>7658</th>\n",
       "      <td>Zimbabwe</td>\n",
       "      <td>1993</td>\n",
       "      <td>2458.783255</td>\n",
       "      <td>NaN</td>\n",
       "    </tr>\n",
       "    <tr>\n",
       "      <th>7659</th>\n",
       "      <td>Zimbabwe</td>\n",
       "      <td>1992</td>\n",
       "      <td>2468.278257</td>\n",
       "      <td>NaN</td>\n",
       "    </tr>\n",
       "    <tr>\n",
       "      <th>7660</th>\n",
       "      <td>Zimbabwe</td>\n",
       "      <td>1991</td>\n",
       "      <td>2781.787843</td>\n",
       "      <td>NaN</td>\n",
       "    </tr>\n",
       "    <tr>\n",
       "      <th>7661</th>\n",
       "      <td>Zimbabwe</td>\n",
       "      <td>1990</td>\n",
       "      <td>2704.757299</td>\n",
       "      <td>NaN</td>\n",
       "    </tr>\n",
       "  </tbody>\n",
       "</table>\n",
       "<p>7662 rows × 4 columns</p>\n",
       "</div>"
      ],
      "text/plain": [
       "          Country  Year  GDP_Per_Capita  Value Footnotes\n",
       "0     Afghanistan  2021     1517.016266              NaN\n",
       "1     Afghanistan  2020     1968.341002              NaN\n",
       "2     Afghanistan  2019     2079.921861              NaN\n",
       "3     Afghanistan  2018     2060.698973              NaN\n",
       "4     Afghanistan  2017     2096.093111              NaN\n",
       "...           ...   ...             ...              ...\n",
       "7657     Zimbabwe  1994     2670.106615              NaN\n",
       "7658     Zimbabwe  1993     2458.783255              NaN\n",
       "7659     Zimbabwe  1992     2468.278257              NaN\n",
       "7660     Zimbabwe  1991     2781.787843              NaN\n",
       "7661     Zimbabwe  1990     2704.757299              NaN\n",
       "\n",
       "[7662 rows x 4 columns]"
      ]
     },
     "execution_count": 13,
     "metadata": {},
     "output_type": "execute_result"
    }
   ],
   "source": [
    "gdp_df.rename(columns = {'Country or Area': 'Country', 'Year': 'Year', 'Value': 'GDP_Per_Capita'})"
   ]
  },
  {
   "cell_type": "markdown",
   "id": "750ff569-989a-4304-bd65-a92f05b42bf7",
   "metadata": {},
   "source": [
    "#### (C) Combine drop and rename functions:\n",
    "##### df.rename(columns = {'x':'new_name', 'y':'new_name'}, inplace = False).drop('z',axis=1,inplace=False)\n",
    "##### print(df)\n",
    "##### ***Note: I was having trouble because I was using inplace = True, because that causes the first change to be saved. So repeating the function to make the change again go into error since it was already done"
   ]
  },
  {
   "cell_type": "code",
   "execution_count": 15,
   "id": "8bae978a-bd90-457f-9dbc-f222caf79791",
   "metadata": {},
   "outputs": [
    {
     "data": {
      "text/html": [
       "<div>\n",
       "<style scoped>\n",
       "    .dataframe tbody tr th:only-of-type {\n",
       "        vertical-align: middle;\n",
       "    }\n",
       "\n",
       "    .dataframe tbody tr th {\n",
       "        vertical-align: top;\n",
       "    }\n",
       "\n",
       "    .dataframe thead th {\n",
       "        text-align: right;\n",
       "    }\n",
       "</style>\n",
       "<table border=\"1\" class=\"dataframe\">\n",
       "  <thead>\n",
       "    <tr style=\"text-align: right;\">\n",
       "      <th></th>\n",
       "      <th>Country</th>\n",
       "      <th>Year</th>\n",
       "      <th>GDP_Per_Capita</th>\n",
       "    </tr>\n",
       "  </thead>\n",
       "  <tbody>\n",
       "    <tr>\n",
       "      <th>0</th>\n",
       "      <td>Afghanistan</td>\n",
       "      <td>2021</td>\n",
       "      <td>1517.016266</td>\n",
       "    </tr>\n",
       "    <tr>\n",
       "      <th>1</th>\n",
       "      <td>Afghanistan</td>\n",
       "      <td>2020</td>\n",
       "      <td>1968.341002</td>\n",
       "    </tr>\n",
       "    <tr>\n",
       "      <th>2</th>\n",
       "      <td>Afghanistan</td>\n",
       "      <td>2019</td>\n",
       "      <td>2079.921861</td>\n",
       "    </tr>\n",
       "    <tr>\n",
       "      <th>3</th>\n",
       "      <td>Afghanistan</td>\n",
       "      <td>2018</td>\n",
       "      <td>2060.698973</td>\n",
       "    </tr>\n",
       "    <tr>\n",
       "      <th>4</th>\n",
       "      <td>Afghanistan</td>\n",
       "      <td>2017</td>\n",
       "      <td>2096.093111</td>\n",
       "    </tr>\n",
       "    <tr>\n",
       "      <th>...</th>\n",
       "      <td>...</td>\n",
       "      <td>...</td>\n",
       "      <td>...</td>\n",
       "    </tr>\n",
       "    <tr>\n",
       "      <th>7657</th>\n",
       "      <td>Zimbabwe</td>\n",
       "      <td>1994</td>\n",
       "      <td>2670.106615</td>\n",
       "    </tr>\n",
       "    <tr>\n",
       "      <th>7658</th>\n",
       "      <td>Zimbabwe</td>\n",
       "      <td>1993</td>\n",
       "      <td>2458.783255</td>\n",
       "    </tr>\n",
       "    <tr>\n",
       "      <th>7659</th>\n",
       "      <td>Zimbabwe</td>\n",
       "      <td>1992</td>\n",
       "      <td>2468.278257</td>\n",
       "    </tr>\n",
       "    <tr>\n",
       "      <th>7660</th>\n",
       "      <td>Zimbabwe</td>\n",
       "      <td>1991</td>\n",
       "      <td>2781.787843</td>\n",
       "    </tr>\n",
       "    <tr>\n",
       "      <th>7661</th>\n",
       "      <td>Zimbabwe</td>\n",
       "      <td>1990</td>\n",
       "      <td>2704.757299</td>\n",
       "    </tr>\n",
       "  </tbody>\n",
       "</table>\n",
       "<p>7662 rows × 3 columns</p>\n",
       "</div>"
      ],
      "text/plain": [
       "          Country  Year  GDP_Per_Capita\n",
       "0     Afghanistan  2021     1517.016266\n",
       "1     Afghanistan  2020     1968.341002\n",
       "2     Afghanistan  2019     2079.921861\n",
       "3     Afghanistan  2018     2060.698973\n",
       "4     Afghanistan  2017     2096.093111\n",
       "...           ...   ...             ...\n",
       "7657     Zimbabwe  1994     2670.106615\n",
       "7658     Zimbabwe  1993     2458.783255\n",
       "7659     Zimbabwe  1992     2468.278257\n",
       "7660     Zimbabwe  1991     2781.787843\n",
       "7661     Zimbabwe  1990     2704.757299\n",
       "\n",
       "[7662 rows x 3 columns]"
      ]
     },
     "execution_count": 15,
     "metadata": {},
     "output_type": "execute_result"
    }
   ],
   "source": [
    "gdp_df.rename(columns = {'Country or Area': 'Country', 'Year': 'Year', 'Value': 'GDP_Per_Capita'}, inplace = False).drop('Value Footnotes', axis=1,inplace=False)"
   ]
  },
  {
   "cell_type": "markdown",
   "id": "04e77401-e74b-41bd-9c73-bbe577892022",
   "metadata": {},
   "source": [
    "## 7. How many countries have data for all years? Which countries are missing many years of data? Look at the number of observations per year. What do you notice? \n"
   ]
  },
  {
   "cell_type": "markdown",
   "id": "e0e962db-a7a8-4b2b-b65a-52d3138a3150",
   "metadata": {},
   "source": [
    "#### (A) Find max and min years\n",
    "#### gdp_df[''].max()\n",
    "#### min_value = df['Year'].min()"
   ]
  },
  {
   "cell_type": "code",
   "execution_count": 18,
   "id": "0ff32d20-bcfe-46a6-880c-ab2bd35a496b",
   "metadata": {},
   "outputs": [
    {
     "name": "stdout",
     "output_type": "stream",
     "text": [
      "The max year is 2022.\n",
      "The min year is 1990.\n",
      "32\n"
     ]
    }
   ],
   "source": [
    "max_value = gdp_df['Year'].max()\n",
    "min_value = gdp_df['Year'].min()\n",
    "print(f'The max year is {max_value}.')\n",
    "print(f'The min year is {min_value}.')\n",
    "difference = 2022 - 1990\n",
    "print(difference) "
   ]
  },
  {
   "cell_type": "markdown",
   "id": "b594b7ad-23c7-4638-8a02-3e86e384e95d",
   "metadata": {},
   "source": [
    "#### Count missing values in entire df\n",
    "##### df.isna().sum().sum()\n",
    "##### print(df)\n",
    "#### Count missing values in each column\n",
    "##### df.isna().sum()\n",
    "###### Why is the above option not working? \n",
    "\n",
    "#### Dibran's answer:\n",
    "#### ?(1) gdp_df['Country'].value_counts()\n",
    "##### to check answer, gdp_df[gdp_df['Country']== 'Country name']\n",
    "#### (2) Save to count_df"
   ]
  },
  {
   "cell_type": "markdown",
   "id": "3089f89d-1b5d-485d-8338-7d7b2a1f29d4",
   "metadata": {},
   "source": [
    "#### Countries that have data for all years\n",
    "##### (3) count_df['count'] == 33\n",
    "##### (4) count_df-count_df['count'] == 33].count()\n",
    "\n",
    "#### Counties that have missing years:\n",
    "##### (5) count_df-count_df['count'] < 33].count()\n",
    "\n",
    "#### Observations\n",
    "##### There will be a couple of countries that have more than 33 years"
   ]
  },
  {
   "cell_type": "code",
   "execution_count": null,
   "id": "d037cc44-7614-4f42-b9b8-4135b5a1011a",
   "metadata": {},
   "outputs": [],
   "source": []
  },
  {
   "cell_type": "markdown",
   "id": "9a06025b-f9f8-4e61-84d3-6073b267dea4",
   "metadata": {},
   "source": [
    "## 8.In this question, you're going to create some plots to show the distribution of GDP per capita for the year 2020. Go to the Python Graph Gallery (https://www.python-graph-gallery.com/) and look at the different types of plots under the Distribution section. Create a histogram, a density plot, a boxplot, and a violin plot. What do you notice when you look at these plots? How do the plots compare and what information can you get out of one type that you can't necessarily get out of the others?"
   ]
  },
  {
   "cell_type": "code",
   "execution_count": 22,
   "id": "e94e0627-702b-43c7-a653-74d4f8e8fb12",
   "metadata": {},
   "outputs": [],
   "source": [
    "### Narrow data to GDP per capita for 2020 and save as a new dataset"
   ]
  },
  {
   "cell_type": "code",
   "execution_count": 23,
   "id": "556fe986-02f2-4c40-98f3-6e8e7136519c",
   "metadata": {},
   "outputs": [],
   "source": [
    "df_2020 = gdp_df[gdp_df['Year'] == 2020]"
   ]
  },
  {
   "cell_type": "markdown",
   "id": "17a6c934-c03a-4ded-bb4e-87a96305392a",
   "metadata": {},
   "source": [
    "### Histogram"
   ]
  },
  {
   "cell_type": "code",
   "execution_count": 25,
   "id": "33fa4740-7db6-4340-80cd-525b083aff36",
   "metadata": {},
   "outputs": [],
   "source": [
    "#### libraries & dataset\n",
    "##### import seaborn as sns\n",
    "##### import matplotlib.pyplot as plt\n",
    "#### set a grey background (use sns.set_theme() if seaborn version 0.11.0 or above, set otherwise) \n",
    "##### sns.set_theme(style=\"darkgrid\")\n",
    "##### df = sns.load_dataset(\"iris\")\n",
    "\n",
    "##### sns.histplot(data=df, x=\"sepal_length\", kde=True)\n",
    "##### plt.show()"
   ]
  },
  {
   "cell_type": "code",
   "execution_count": 26,
   "id": "fafb29e6-97c5-48da-8524-c3051b15c53f",
   "metadata": {},
   "outputs": [
    {
     "ename": "SyntaxError",
     "evalue": "invalid syntax (1740225032.py, line 5)",
     "output_type": "error",
     "traceback": [
      "\u001b[1;36m  Cell \u001b[1;32mIn[26], line 5\u001b[1;36m\u001b[0m\n\u001b[1;33m    df_2020[].plot(kind='hist', edgecolor ='', bins =)\u001b[0m\n\u001b[1;37m            ^\u001b[0m\n\u001b[1;31mSyntaxError\u001b[0m\u001b[1;31m:\u001b[0m invalid syntax\n"
     ]
    }
   ],
   "source": [
    "import seaborn as sns\n",
    "import matplotlib.pyplot as plt\n",
    "df_2020.histplot(data=df_2020, x=\"GDP_per_capita\")\n",
    "##### plt.show()\n",
    "df_2020[].plot(kind='hist', edgecolor ='', bins =)"
   ]
  },
  {
   "cell_type": "code",
   "execution_count": null,
   "id": "ff9bd48f-6c08-4e3d-947c-31887c00b916",
   "metadata": {},
   "outputs": [],
   "source": [
    "#### Density plot"
   ]
  },
  {
   "cell_type": "code",
   "execution_count": null,
   "id": "15255749-e6c6-4aa3-b633-d14b56644680",
   "metadata": {},
   "outputs": [],
   "source": [
    "sns.kdeplot"
   ]
  },
  {
   "cell_type": "code",
   "execution_count": null,
   "id": "a11775db-55a8-4916-8f92-a968bd10dd9a",
   "metadata": {},
   "outputs": [],
   "source": [
    "#### Boxplot\n",
    "sns.boxplot"
   ]
  },
  {
   "cell_type": "code",
   "execution_count": null,
   "id": "2ce1936c-7513-4f8f-b19f-bb66ca072622",
   "metadata": {},
   "outputs": [],
   "source": []
  },
  {
   "cell_type": "code",
   "execution_count": null,
   "id": "60c8df0d-418c-4c39-9b80-4bb90141e072",
   "metadata": {},
   "outputs": [],
   "source": [
    "#### Violin plot"
   ]
  },
  {
   "cell_type": "code",
   "execution_count": null,
   "id": "5167c172-04ef-44fd-91dd-e978c192c4ef",
   "metadata": {},
   "outputs": [],
   "source": [
    "sns.violinplot"
   ]
  },
  {
   "cell_type": "markdown",
   "id": "2fc63f30-f91a-4c8a-b17f-2ddeb8d9936a",
   "metadata": {},
   "source": [
    "## 9.What was the median GDP per capita value in 2020?"
   ]
  },
  {
   "cell_type": "markdown",
   "id": "85455731-4ed0-4ea9-ac12-110ba08172b7",
   "metadata": {},
   "source": [
    "### Median function is median()\n",
    "#### df_2020[GDP_Per_Capita'].median()"
   ]
  },
  {
   "cell_type": "code",
   "execution_count": null,
   "id": "9d3a6882-4913-4e52-b5aa-8a5fe039ca87",
   "metadata": {},
   "outputs": [],
   "source": [
    "df_2020['GDP_Per_Capita'].median()"
   ]
  },
  {
   "cell_type": "markdown",
   "id": "d7003d21-7813-4f65-9c0c-8b18311cea22",
   "metadata": {},
   "source": [
    "## 10.Create some visualizations to compare GDP per capita values for the years 1990, 2000, 2010, and 2020. Start by subsetting your data to just these 4 years into a new DataFrame named gdp_decades. Comment on what you observe has happened to GDP values over time and the relative strengths and weaknesses of each type of plot. \n",
    "### A boxplot\n",
    "### A barplot \n",
    "### A scatterplot\n",
    "### A scatterplot with a trend line overlaid "
   ]
  },
  {
   "cell_type": "markdown",
   "id": "0aa4f7de-400c-4776-8889-23bebe90af67",
   "metadata": {},
   "source": [
    "### Create subset for years 1990, 2000, 2010, and 2020\n",
    "#### gdp_df[gdp_df['Year'].isin([1990,2000,2010,2020])]\n",
    "#### Save above subset as a name (like gdp_decades)\n",
    "##### Alternative: \n",
    "###### my_years = [1990,2000,2010,2020])\n",
    "###### gdp_df[gdp_df['Year'].isin(my_years]\n"
   ]
  },
  {
   "cell_type": "code",
   "execution_count": null,
   "id": "e0c1ee24-0f87-4550-b717-5694f205a5f0",
   "metadata": {},
   "outputs": [],
   "source": []
  },
  {
   "cell_type": "markdown",
   "id": "6504f71d-c358-4071-9b60-8a32eda02f75",
   "metadata": {},
   "source": [
    "### Barplot "
   ]
  },
  {
   "cell_type": "code",
   "execution_count": null,
   "id": "3cc04869-9542-4d48-9893-065f550c668d",
   "metadata": {},
   "outputs": [],
   "source": []
  },
  {
   "cell_type": "markdown",
   "id": "efb05e00-0128-47c0-b6d0-ca37b7eaa77e",
   "metadata": {},
   "source": [
    "### Boxplot"
   ]
  },
  {
   "cell_type": "code",
   "execution_count": null,
   "id": "197099d6-aa37-4421-87a5-d0bea6234091",
   "metadata": {},
   "outputs": [],
   "source": []
  },
  {
   "cell_type": "markdown",
   "id": "874270a3-28fe-42e0-a26a-95d4b8efe120",
   "metadata": {},
   "source": [
    "### Scatterplot"
   ]
  },
  {
   "cell_type": "code",
   "execution_count": null,
   "id": "7e3ab128-cefe-416d-abde-e1ea58ee63e1",
   "metadata": {},
   "outputs": [],
   "source": []
  },
  {
   "cell_type": "markdown",
   "id": "6ff72a29-0655-4788-8499-23726376d060",
   "metadata": {},
   "source": [
    "### Scatterplot with a trend line overlaid "
   ]
  },
  {
   "cell_type": "code",
   "execution_count": null,
   "id": "b3ee06c8-3226-4398-8ad6-b79626913040",
   "metadata": {},
   "outputs": [],
   "source": []
  },
  {
   "cell_type": "markdown",
   "id": "de4ab099-8f82-44a4-bd51-eb507f752eaf",
   "metadata": {},
   "source": [
    "## 11. Which country was the first to have a GDP per capita greater than $100,000?"
   ]
  },
  {
   "cell_type": "code",
   "execution_count": null,
   "id": "6a0d018b-9f9e-4dab-b8c6-3a472f362842",
   "metadata": {},
   "outputs": [],
   "source": [
    "gdp_df = gdp_df.rename(columns = {'Country or Area': 'Country', 'Year': 'Year', 'Value': 'GDP_Per_Capita'}, inplace = False).drop('Value Footnotes', axis=1,inplace=False)"
   ]
  },
  {
   "cell_type": "code",
   "execution_count": null,
   "id": "af3251f3-597e-4492-84af-99bdb8d221b4",
   "metadata": {},
   "outputs": [],
   "source": [
    "###  (A) Find countries with GDP per capita greater than $100,000.\n",
    "#### gdp_df[gdp_df['GDP_Per_Capita']>100000]\n",
    "### (B) Sort by year to find country with earliest year\n",
    "#### sort_values(by='Year') "
   ]
  },
  {
   "cell_type": "code",
   "execution_count": null,
   "id": "bb5034b0-0172-4265-b383-72674b136924",
   "metadata": {},
   "outputs": [],
   "source": []
  },
  {
   "cell_type": "code",
   "execution_count": null,
   "id": "ffaee496-f43c-4a40-ae9e-59b595eff0d8",
   "metadata": {},
   "outputs": [],
   "source": [
    "gdp_df[gdp_df['GDP_Per_Capita']>100000].sort_values(by='Year').head(1) "
   ]
  },
  {
   "cell_type": "markdown",
   "id": "059f9a77-9ebc-49bc-ac55-b9e45a2b7225",
   "metadata": {},
   "source": [
    "## 12. Which country had the highest GDP per capita in 2020? Create a plot showing how this country's GDP per capita has changed over the timespan of the dataset."
   ]
  },
  {
   "cell_type": "markdown",
   "id": "d69ab9cf-1b41-45d2-9b3e-818c1540b8f9",
   "metadata": {},
   "source": [
    "### (A) Narrow to data for 2020: \n",
    "#### gdp_df[gdp_df['Year']==2020]"
   ]
  },
  {
   "cell_type": "code",
   "execution_count": null,
   "id": "b73ad580-094f-4ef8-917a-97eb7e95f8fa",
   "metadata": {},
   "outputs": [],
   "source": [
    "gdp_df[gdp_df['Year']==2020]"
   ]
  },
  {
   "cell_type": "markdown",
   "id": "179e1879-6162-433e-a74e-5c282cb037ae",
   "metadata": {},
   "source": [
    "### (B) Sort by GDP (descending):\n",
    "#### sort_values('GDP_Per_Capita',ascending=True)\n",
    "### (C) Narrow to top 1 using head(1):\n",
    "#### sort_values('GDP_Per_Capita',ascending=True)\n",
    "#### **Dibran's alternative: \n",
    "##### nlargest(1, 'GDP_Per_Capita')\n",
    "#### ***Elizabeth's question: Can't max function be used? Yes, but would need to use & to do it in steps, because max will only return the largest GDP but without the country name."
   ]
  },
  {
   "cell_type": "code",
   "execution_count": null,
   "id": "f6220505-be61-4a48-83ee-3e0bddf2556f",
   "metadata": {},
   "outputs": [],
   "source": [
    "gdp_df[gdp_df['Year']==2020].sort_values(by='GDP_Per_Capita', ascending=False).head(1)"
   ]
  },
  {
   "cell_type": "markdown",
   "id": "eb95c1a7-15e4-438e-bf09-a6d963f39b07",
   "metadata": {},
   "source": [
    "#### (D) Create dataset for Luxembourg and name it"
   ]
  },
  {
   "cell_type": "code",
   "execution_count": null,
   "id": "a36b8ff5-b86a-4ca2-a40b-98e78911b19d",
   "metadata": {},
   "outputs": [],
   "source": [
    "luxembourg = gdp_df[gdp_df['Country']=='Luxembourg']"
   ]
  },
  {
   "cell_type": "markdown",
   "id": "baf54dfc-4549-4920-9dcb-bd02b48748d9",
   "metadata": {},
   "source": [
    "### (E) Plot showing how this country's GDP per capita has changed over the timespan of the dataset.\n",
    "#### .plot(x='',y='',kind='line')\n",
    "##### .plot(x='Year',y='GDP_Per_Capita',kind='line')"
   ]
  },
  {
   "cell_type": "code",
   "execution_count": null,
   "id": "047b8eea-bea7-4eaf-bb3c-3c77276845eb",
   "metadata": {},
   "outputs": [],
   "source": [
    "luxembourg.plot(title='Luxembourg', x='Year',y='GDP_Per_Capita',kind='line')"
   ]
  },
  {
   "cell_type": "markdown",
   "id": "e40ea531-822c-477b-8df4-09978b3fd44d",
   "metadata": {},
   "source": [
    "## 13. Which country had the lowest GDP per capita in 2020? Create a plot showing how this country's GDP per capita has changed over the timespan of the dataset. ** Bonus question: Is it true in general that countries had a higher GDP per capita in 2020 than in 1990? Which countries had lower GDP per capita in 2020 than in 1990?"
   ]
  },
  {
   "cell_type": "markdown",
   "id": "604eeb73-29dc-4c65-a8e9-5be0b909f30e",
   "metadata": {},
   "source": [
    "### (A) GDP data in 2020: gdp_df[gdp_df['Year']==2020]\n",
    "### (B) Lowest GDP per capita: sort_values(by='GDP_Per_Capita', ascending=True)\n",
    "### (C) Obtain top 5 results using head()"
   ]
  },
  {
   "cell_type": "code",
   "execution_count": null,
   "id": "a1e9717e-2199-44b4-84e3-63d2cc3b956e",
   "metadata": {},
   "outputs": [],
   "source": [
    "gdp_df[gdp_df['Year']==2020].sort_values(by='GDP_Per_Capita', ascending=True).head()"
   ]
  },
  {
   "cell_type": "markdown",
   "id": "c034d41e-4670-4314-8498-514f380e5759",
   "metadata": {},
   "source": [
    "### (C) Create subset for Burundi\n",
    "### (D) Create a plot showing how this country's GDP per capita has changed over the timespan."
   ]
  },
  {
   "cell_type": "code",
   "execution_count": null,
   "id": "dd8bc8c1-1e48-444a-8e38-061a316301d3",
   "metadata": {},
   "outputs": [],
   "source": [
    "burundi = gdp_df[gdp_df['Country']=='Burundi']\n",
    "print(burundi)"
   ]
  },
  {
   "cell_type": "code",
   "execution_count": null,
   "id": "16539ba2-e3e7-451b-ab6b-257ea7bf7147",
   "metadata": {},
   "outputs": [],
   "source": [
    "burundi.plot(title='Burundi',x='Year',y='GDP_Per_Capita',kind='line')"
   ]
  },
  {
   "cell_type": "code",
   "execution_count": null,
   "id": "3f3ea19d-014f-4fb8-a621-fca4887fc731",
   "metadata": {},
   "outputs": [],
   "source": []
  },
  {
   "cell_type": "markdown",
   "id": "83e0ec25-d7a7-446f-9d89-8f27f06d2a69",
   "metadata": {},
   "source": [
    "## 14. Read in the internet use dataset into a DataFrame named internet_df. You will likely get errors when doing this. Check the arguments for the read_csv function to find ones that can help correct the errors (https://pandas.pydata.org/docs/reference/api/pandas.read_csv.html) Once you are able to read it in, take per a look at the top and bottom few rows to make sure that it has been read in correctly. Also, check the datatypes of the columns."
   ]
  },
  {
   "cell_type": "markdown",
   "id": "94eb69ff-d7b7-4931-8b00-639ea0e15944",
   "metadata": {},
   "source": [
    "#### (A) Initial attempt: dropped columns: \n",
    "##### internet_df = pd.read_csv(\"../data/internet_use.csv.csv\", usecols=[0,1,2,3])\n",
    "###### --But footers actually need to be dropped (which will drop the rows with excess columns anyways)\n",
    "#### (B) Final attempt: drop columns below 6084.\n",
    "#####    1. Calculate number of columns: 6383\n",
    "#####    2. Calculate number of Columns to drop: 6381-6082=299\n",
    "#####    3.pd.read_csv(\"../data/internet_use.csv.csv\", skipfooter=299) --> does not work unless in python engine\n",
    "#### (C) Third attempt: Use first attempt to drop columns and then df =df[x;y] to include only the needed rows\n",
    "#####    ---internetdropcol_df = pd.read_csv(\"../data/internet_use.csv.csv\", usecols=[0,1,2,3])\n",
    "#####    ---internet_df = pd.read_csv(\"../data/internet_use.csv.csv\", [0:6083])\n",
    "#####      - Error: SyntaxError: invalid syntax\n",
    "#### (D Final attempt (which works!):  pd.read_csv(\"../data/internet_use.csv.csv\",skiprows=list(range(6085,6385)))\n",
    "#####---(Took some time to figure out parameters of rows to skip)"
   ]
  },
  {
   "cell_type": "code",
   "execution_count": 254,
   "id": "217f0435-000d-4d89-a5f9-70979e8cba64",
   "metadata": {},
   "outputs": [],
   "source": [
    "internet_df = pd.read_csv(\"../data/internet_use.csv.csv\",skiprows=list(range(6085,6385)))"
   ]
  },
  {
   "cell_type": "markdown",
   "id": "82a4bb9d-2aa6-40ff-89a2-6c0eb76d72a3",
   "metadata": {},
   "source": [
    "#### (1) Check data type: df.dtypes\n",
    "##### Result: 4 columns, all with object data type"
   ]
  },
  {
   "cell_type": "code",
   "execution_count": 127,
   "id": "8dc531ab-f6ea-4ac3-bb65-73b508f9e3b8",
   "metadata": {},
   "outputs": [
    {
     "data": {
      "text/plain": [
       "Country or Area     object\n",
       "Year                 int64\n",
       "Value              float64\n",
       "Value Footnotes     object\n",
       "dtype: object"
      ]
     },
     "execution_count": 127,
     "metadata": {},
     "output_type": "execute_result"
    }
   ],
   "source": [
    "internet_df.dtypes"
   ]
  },
  {
   "cell_type": "markdown",
   "id": "9725d4a3-49b9-4c68-9078-b2160a241da3",
   "metadata": {},
   "source": [
    "#### (2) Check top and bottom rows: head() and tail ()\n",
    "##### Top rows look fine and show reasonable data for Country or Area, Year, Value, and Value Footnotes\n",
    "##### Bottom rows do not look the same-Country or Area is numbers, years appear to be notes, Value and Value Footnotes are NaN\n"
   ]
  },
  {
   "cell_type": "code",
   "execution_count": 130,
   "id": "7297cc66-897e-46f2-b6ef-5a2c3d74ba19",
   "metadata": {},
   "outputs": [
    {
     "data": {
      "text/html": [
       "<div>\n",
       "<style scoped>\n",
       "    .dataframe tbody tr th:only-of-type {\n",
       "        vertical-align: middle;\n",
       "    }\n",
       "\n",
       "    .dataframe tbody tr th {\n",
       "        vertical-align: top;\n",
       "    }\n",
       "\n",
       "    .dataframe thead th {\n",
       "        text-align: right;\n",
       "    }\n",
       "</style>\n",
       "<table border=\"1\" class=\"dataframe\">\n",
       "  <thead>\n",
       "    <tr style=\"text-align: right;\">\n",
       "      <th></th>\n",
       "      <th>Country or Area</th>\n",
       "      <th>Year</th>\n",
       "      <th>Value</th>\n",
       "      <th>Value Footnotes</th>\n",
       "    </tr>\n",
       "  </thead>\n",
       "  <tbody>\n",
       "    <tr>\n",
       "      <th>0</th>\n",
       "      <td>Afghanistan</td>\n",
       "      <td>2019</td>\n",
       "      <td>17.60</td>\n",
       "      <td>1</td>\n",
       "    </tr>\n",
       "    <tr>\n",
       "      <th>1</th>\n",
       "      <td>Afghanistan</td>\n",
       "      <td>2018</td>\n",
       "      <td>16.80</td>\n",
       "      <td>2</td>\n",
       "    </tr>\n",
       "    <tr>\n",
       "      <th>2</th>\n",
       "      <td>Afghanistan</td>\n",
       "      <td>2017</td>\n",
       "      <td>13.50</td>\n",
       "      <td>3</td>\n",
       "    </tr>\n",
       "    <tr>\n",
       "      <th>3</th>\n",
       "      <td>Afghanistan</td>\n",
       "      <td>2016</td>\n",
       "      <td>11.00</td>\n",
       "      <td>4</td>\n",
       "    </tr>\n",
       "    <tr>\n",
       "      <th>4</th>\n",
       "      <td>Afghanistan</td>\n",
       "      <td>2015</td>\n",
       "      <td>8.26</td>\n",
       "      <td>4</td>\n",
       "    </tr>\n",
       "  </tbody>\n",
       "</table>\n",
       "</div>"
      ],
      "text/plain": [
       "  Country or Area  Year  Value Value Footnotes\n",
       "0     Afghanistan  2019  17.60               1\n",
       "1     Afghanistan  2018  16.80               2\n",
       "2     Afghanistan  2017  13.50               3\n",
       "3     Afghanistan  2016  11.00               4\n",
       "4     Afghanistan  2015   8.26               4"
      ]
     },
     "execution_count": 130,
     "metadata": {},
     "output_type": "execute_result"
    }
   ],
   "source": [
    "internet_df.head()"
   ]
  },
  {
   "cell_type": "code",
   "execution_count": null,
   "id": "f3ca2907-3172-4401-8b9f-373decc21bbf",
   "metadata": {},
   "outputs": [],
   "source": [
    "## (not used, just an option df=pd.read_excel('Data_2.xlsx'))"
   ]
  },
  {
   "cell_type": "code",
   "execution_count": 132,
   "id": "a2aaa88d-dc13-4301-bc95-c124e5d9e7f5",
   "metadata": {},
   "outputs": [
    {
     "data": {
      "text/html": [
       "<div>\n",
       "<style scoped>\n",
       "    .dataframe tbody tr th:only-of-type {\n",
       "        vertical-align: middle;\n",
       "    }\n",
       "\n",
       "    .dataframe tbody tr th {\n",
       "        vertical-align: top;\n",
       "    }\n",
       "\n",
       "    .dataframe thead th {\n",
       "        text-align: right;\n",
       "    }\n",
       "</style>\n",
       "<table border=\"1\" class=\"dataframe\">\n",
       "  <thead>\n",
       "    <tr style=\"text-align: right;\">\n",
       "      <th></th>\n",
       "      <th>Country or Area</th>\n",
       "      <th>Year</th>\n",
       "      <th>Value</th>\n",
       "      <th>Value Footnotes</th>\n",
       "    </tr>\n",
       "  </thead>\n",
       "  <tbody>\n",
       "    <tr>\n",
       "      <th>6078</th>\n",
       "      <td>Zimbabwe</td>\n",
       "      <td>1997</td>\n",
       "      <td>0.033080</td>\n",
       "      <td>NaN</td>\n",
       "    </tr>\n",
       "    <tr>\n",
       "      <th>6079</th>\n",
       "      <td>Zimbabwe</td>\n",
       "      <td>1996</td>\n",
       "      <td>0.016790</td>\n",
       "      <td>NaN</td>\n",
       "    </tr>\n",
       "    <tr>\n",
       "      <th>6080</th>\n",
       "      <td>Zimbabwe</td>\n",
       "      <td>1995</td>\n",
       "      <td>0.007684</td>\n",
       "      <td>NaN</td>\n",
       "    </tr>\n",
       "    <tr>\n",
       "      <th>6081</th>\n",
       "      <td>Zimbabwe</td>\n",
       "      <td>1994</td>\n",
       "      <td>0.001739</td>\n",
       "      <td>NaN</td>\n",
       "    </tr>\n",
       "    <tr>\n",
       "      <th>6082</th>\n",
       "      <td>Zimbabwe</td>\n",
       "      <td>1990</td>\n",
       "      <td>0.000000</td>\n",
       "      <td>NaN</td>\n",
       "    </tr>\n",
       "  </tbody>\n",
       "</table>\n",
       "</div>"
      ],
      "text/plain": [
       "     Country or Area  Year     Value Value Footnotes\n",
       "6078        Zimbabwe  1997  0.033080             NaN\n",
       "6079        Zimbabwe  1996  0.016790             NaN\n",
       "6080        Zimbabwe  1995  0.007684             NaN\n",
       "6081        Zimbabwe  1994  0.001739             NaN\n",
       "6082        Zimbabwe  1990  0.000000             NaN"
      ]
     },
     "execution_count": 132,
     "metadata": {},
     "output_type": "execute_result"
    }
   ],
   "source": [
    "internet_df.tail()"
   ]
  },
  {
   "cell_type": "markdown",
   "id": "911b729d-6c34-4378-9263-9462baff0dc8",
   "metadata": {},
   "source": [
    "## 15. Drop the Value Footnotes column and rename the remaining three to 'Country', 'Year', and 'Internet_Users_Pct'."
   ]
  },
  {
   "cell_type": "markdown",
   "id": "f83cfc70-e3bd-493e-b7a6-c2be12914991",
   "metadata": {},
   "source": [
    "#### (A) Drop Value Footnotes column: drop('z',axis=1,inplace=False)\n",
    "#### (B) Rename the remaining three to 'Country', 'Year', and 'Internet_Users_Pct': df.rename(columns = {'x':'new_name', 'y':'new_name'}, inplace = False).\n",
    "#### (C) Save as new subset \n"
   ]
  },
  {
   "cell_type": "code",
   "execution_count": 258,
   "id": "6e2c0a4d-d50d-47cd-bd6c-7982be380685",
   "metadata": {},
   "outputs": [],
   "source": [
    "internet_df = internet_df.drop('Value Footnotes', axis=1, inplace=False).rename(columns = {'Country or Area':'Country', 'Year':'Year', 'Value':'Internet_Users_Pct'}, inplace = False)"
   ]
  },
  {
   "cell_type": "code",
   "execution_count": null,
   "id": "69da6f98-f08f-4f8b-8642-6fa61abe391e",
   "metadata": {},
   "outputs": [],
   "source": [
    "## 16. Look at the number of observations in this dataset per year. What do you notice?"
   ]
  },
  {
   "cell_type": "code",
   "execution_count": null,
   "id": "c78fb205-5c23-44be-a507-7dc3dbc737eb",
   "metadata": {},
   "outputs": [],
   "source": [
    "#### (A) Group by year\n",
    "#### (B) Count Internet_Users_Pct per year\n",
    "#### (C) Count Countries per year group"
   ]
  },
  {
   "cell_type": "code",
   "execution_count": null,
   "id": "3d885893-99c9-4685-902a-4f58fda1043d",
   "metadata": {},
   "outputs": [],
   "source": []
  },
  {
   "cell_type": "code",
   "execution_count": null,
   "id": "d2bf73a1-a7c6-4473-a410-e8337a1df543",
   "metadata": {},
   "outputs": [],
   "source": []
  },
  {
   "cell_type": "code",
   "execution_count": null,
   "id": "2d3f92c8-f42e-4faf-9af4-04c11f57f57a",
   "metadata": {},
   "outputs": [],
   "source": []
  },
  {
   "cell_type": "code",
   "execution_count": null,
   "id": "d1c3d98f-6c0b-47d9-afe5-876e08c825fd",
   "metadata": {},
   "outputs": [],
   "source": []
  },
  {
   "cell_type": "markdown",
   "id": "1acc3443-deca-46af-bce2-c18b1f461a18",
   "metadata": {},
   "source": [
    "## 17. What is the first year to have a non-zero internet users percentage value?"
   ]
  },
  {
   "cell_type": "markdown",
   "id": "17da03d9-63df-4aaa-b322-60276fbb3845",
   "metadata": {},
   "source": [
    "###  (A) Find Internet_Users_Pct that are greater than 0\n",
    "#### internet_df[internet_df['Internet_Users_Pct']>0]\n",
    "### (B) Sort by year to find country with earliest year\n",
    "#### sort_values(by='Year') "
   ]
  },
  {
   "cell_type": "code",
   "execution_count": null,
   "id": "d1245b86-77a3-4291-aaa7-41cdcad7b23b",
   "metadata": {},
   "outputs": [],
   "source": [
    "#### Answer: Denmark, 1990, percentage = .097277"
   ]
  },
  {
   "cell_type": "code",
   "execution_count": 143,
   "id": "da55ca18-02e3-4a0a-9d3f-172539b6f8f7",
   "metadata": {},
   "outputs": [
    {
     "data": {
      "text/html": [
       "<div>\n",
       "<style scoped>\n",
       "    .dataframe tbody tr th:only-of-type {\n",
       "        vertical-align: middle;\n",
       "    }\n",
       "\n",
       "    .dataframe tbody tr th {\n",
       "        vertical-align: top;\n",
       "    }\n",
       "\n",
       "    .dataframe thead th {\n",
       "        text-align: right;\n",
       "    }\n",
       "</style>\n",
       "<table border=\"1\" class=\"dataframe\">\n",
       "  <thead>\n",
       "    <tr style=\"text-align: right;\">\n",
       "      <th></th>\n",
       "      <th>Country</th>\n",
       "      <th>Year</th>\n",
       "      <th>Internet_Users_Pct</th>\n",
       "    </tr>\n",
       "  </thead>\n",
       "  <tbody>\n",
       "    <tr>\n",
       "      <th>1570</th>\n",
       "      <td>Denmark</td>\n",
       "      <td>1990</td>\n",
       "      <td>0.097277</td>\n",
       "    </tr>\n",
       "    <tr>\n",
       "      <th>2892</th>\n",
       "      <td>Japan</td>\n",
       "      <td>1990</td>\n",
       "      <td>0.020294</td>\n",
       "    </tr>\n",
       "    <tr>\n",
       "      <th>306</th>\n",
       "      <td>Australia</td>\n",
       "      <td>1990</td>\n",
       "      <td>0.585095</td>\n",
       "    </tr>\n",
       "    <tr>\n",
       "      <th>2034</th>\n",
       "      <td>France</td>\n",
       "      <td>1990</td>\n",
       "      <td>0.052778</td>\n",
       "    </tr>\n",
       "    <tr>\n",
       "      <th>339</th>\n",
       "      <td>Austria</td>\n",
       "      <td>1990</td>\n",
       "      <td>0.130369</td>\n",
       "    </tr>\n",
       "    <tr>\n",
       "      <th>...</th>\n",
       "      <td>...</td>\n",
       "      <td>...</td>\n",
       "      <td>...</td>\n",
       "    </tr>\n",
       "    <tr>\n",
       "      <th>427</th>\n",
       "      <td>Bangladesh</td>\n",
       "      <td>2023</td>\n",
       "      <td>44.502700</td>\n",
       "    </tr>\n",
       "    <tr>\n",
       "      <th>677</th>\n",
       "      <td>Bosnia and Herzegovina</td>\n",
       "      <td>2023</td>\n",
       "      <td>83.377200</td>\n",
       "    </tr>\n",
       "    <tr>\n",
       "      <th>1656</th>\n",
       "      <td>Ecuador</td>\n",
       "      <td>2023</td>\n",
       "      <td>72.694300</td>\n",
       "    </tr>\n",
       "    <tr>\n",
       "      <th>1537</th>\n",
       "      <td>Denmark</td>\n",
       "      <td>2023</td>\n",
       "      <td>98.775600</td>\n",
       "    </tr>\n",
       "    <tr>\n",
       "      <th>3057</th>\n",
       "      <td>Kuwait</td>\n",
       "      <td>2023</td>\n",
       "      <td>99.747300</td>\n",
       "    </tr>\n",
       "  </tbody>\n",
       "</table>\n",
       "<p>5803 rows × 3 columns</p>\n",
       "</div>"
      ],
      "text/plain": [
       "                     Country  Year  Internet_Users_Pct\n",
       "1570                 Denmark  1990            0.097277\n",
       "2892                   Japan  1990            0.020294\n",
       "306                Australia  1990            0.585095\n",
       "2034                  France  1990            0.052778\n",
       "339                  Austria  1990            0.130369\n",
       "...                      ...   ...                 ...\n",
       "427               Bangladesh  2023           44.502700\n",
       "677   Bosnia and Herzegovina  2023           83.377200\n",
       "1656                 Ecuador  2023           72.694300\n",
       "1537                 Denmark  2023           98.775600\n",
       "3057                  Kuwait  2023           99.747300\n",
       "\n",
       "[5803 rows x 3 columns]"
      ]
     },
     "execution_count": 143,
     "metadata": {},
     "output_type": "execute_result"
    }
   ],
   "source": [
    "internet_df[internet_df['Internet_Users_Pct']>0].sort_values(by='Year')"
   ]
  },
  {
   "cell_type": "code",
   "execution_count": null,
   "id": "6e338803-7163-404a-b940-6199c9b5bda4",
   "metadata": {},
   "outputs": [],
   "source": [
    "## 18. How does the distribution of internet users percent differ for 2000 and 2014?"
   ]
  },
  {
   "cell_type": "code",
   "execution_count": null,
   "id": "38734be9-c1f3-4f54-aeae-3657a4c2a458",
   "metadata": {},
   "outputs": [],
   "source": [
    "#### (A) 2000_internet_df = internet_df[internet_df['Year']==2000]\n",
    "#### (B) sns.distplot"
   ]
  },
  {
   "cell_type": "code",
   "execution_count": 288,
   "id": "e9d6beb7-1469-403c-8308-b4c577a819ca",
   "metadata": {},
   "outputs": [],
   "source": [
    "internet_df['Year'] = pd.to_datetime(internet_df['Year'], format='%Y')"
   ]
  },
  {
   "cell_type": "code",
   "execution_count": 296,
   "id": "8748e6d4-e341-42f1-b41b-6a2d7d9eafd1",
   "metadata": {},
   "outputs": [
    {
     "name": "stdout",
     "output_type": "stream",
     "text": [
      "   Year\n",
      "0  2000\n",
      "1  2014\n"
     ]
    }
   ],
   "source": [
    "internet0014_df = pd.DataFrame({'Year':[2000,2014]})\n",
    "print(internet0014_df)"
   ]
  },
  {
   "cell_type": "code",
   "execution_count": 222,
   "id": "1a3cfb62-c50c-4e7b-9bb0-18c1d04ca6e3",
   "metadata": {},
   "outputs": [
    {
     "name": "stdout",
     "output_type": "stream",
     "text": [
      "                 Country  Year_x  Internet_Users_Pct_x  Year_y  \\\n",
      "0                Albania    2000              0.114097    2014   \n",
      "1                Algeria    2000              0.491706    2014   \n",
      "2                Andorra    2000             10.538800    2014   \n",
      "3                 Angola    2000              0.105046    2014   \n",
      "4               Anguilla    2000             22.405400    2014   \n",
      "..                   ...     ...                   ...     ...   \n",
      "190             Viet Nam    2000              0.254248    2014   \n",
      "191  Virgin Islands (US)    2000             13.815100    2014   \n",
      "192                Yemen    2000              0.082500    2014   \n",
      "193               Zambia    2000              0.191072    2014   \n",
      "194             Zimbabwe    2000              0.401434    2014   \n",
      "\n",
      "     Internet_Users_Pct_y  \n",
      "0                 54.3000  \n",
      "1                 29.5000  \n",
      "2                 86.1000  \n",
      "3                 21.3623  \n",
      "4                 70.3900  \n",
      "..                    ...  \n",
      "190               41.0000  \n",
      "191               50.0700  \n",
      "192               22.5500  \n",
      "193                6.5000  \n",
      "194               16.3647  \n",
      "\n",
      "[195 rows x 5 columns]\n"
     ]
    }
   ],
   "source": [
    "internet2000_df = internet_df[internet_df['Year']==2000]\n",
    "internet2014_df = internet_df[internet_df['Year']==2014]\n",
    "sns.stripplot(data=internet0014merge_df, x=\"Year\", y=\"Internet_Users_Pct\")\n",
    "\n"
   ]
  },
  {
   "cell_type": "code",
   "execution_count": null,
   "id": "3201a8c5-4a5c-413e-9128-8f1be3bb5a5f",
   "metadata": {},
   "outputs": [],
   "source": [
    "sns.displot(~ x,data=internet2000_df,y=\"Internet_Users_Pct\", groups=\"Year\")\n",
    "sns.pairplot(data=internet2000_df,hue = 'Internet_Users_Pct',diag_kind = \"kde\",kind = \"scatter\",palette = \"husl\")\n",
    "plt.show\n",
    "sns.stripplot(data=internet0014merge_df, x=\"Year\", y=\"Internet_Users_Pct\")\n",
    "\n"
   ]
  },
  {
   "cell_type": "code",
   "execution_count": null,
   "id": "af8a7bd4-06fe-4c37-8723-9d80f59dd3c0",
   "metadata": {},
   "outputs": [],
   "source": [
    "## 19. For how many countries was the percentage of internet users below 5% in 2014?"
   ]
  },
  {
   "cell_type": "code",
   "execution_count": 280,
   "id": "9a401515-1689-4c1e-b148-c8aebcd6e9bf",
   "metadata": {},
   "outputs": [
    {
     "ename": "TypeError",
     "evalue": "'<' not supported between instances of 'str' and 'float'",
     "output_type": "error",
     "traceback": [
      "\u001b[1;31m---------------------------------------------------------------------------\u001b[0m",
      "\u001b[1;31mTypeError\u001b[0m                                 Traceback (most recent call last)",
      "Cell \u001b[1;32mIn[280], line 3\u001b[0m\n\u001b[0;32m      1\u001b[0m \u001b[38;5;66;03m#### dataset for internet users<5% in 2014\u001b[39;00m\n\u001b[0;32m      2\u001b[0m internet_df\u001b[38;5;241m.\u001b[39mInternet_Users_Pct \u001b[38;5;241m=\u001b[39m internet_df\u001b[38;5;241m.\u001b[39mInternet_Users_Pct\u001b[38;5;241m.\u001b[39mastype(\u001b[38;5;28mint\u001b[39m)\n\u001b[1;32m----> 3\u001b[0m internet_df[\u001b[38;5;124m'\u001b[39m\u001b[38;5;124mInternet_Users_Pct\u001b[39m\u001b[38;5;124m'\u001b[39m\u001b[38;5;241m<\u001b[39m\u001b[38;5;241m5.0\u001b[39m \u001b[38;5;129;01mand\u001b[39;00m \u001b[38;5;124m'\u001b[39m\u001b[38;5;124mYear\u001b[39m\u001b[38;5;124m'\u001b[39m\u001b[38;5;241m==\u001b[39m\u001b[38;5;241m2014\u001b[39m]\n",
      "\u001b[1;31mTypeError\u001b[0m: '<' not supported between instances of 'str' and 'float'"
     ]
    }
   ],
   "source": [
    "#### dataset for internet users<5% in 2014\n",
    "internet_df.Internet_Users_Pct = internet_df.Internet_Users_Pct.astype(int)\n",
    "internet_df['Internet_Users_Pct'<5.0 and 'Year'==2014]\n",
    "#### Count number of countries in this dataset"
   ]
  },
  {
   "cell_type": "code",
   "execution_count": null,
   "id": "db42462a-1e65-4bb5-b468-91d9fe8fe01d",
   "metadata": {},
   "outputs": [],
   "source": [
    "## 20. Merge the two DataFrames to one: pd.merge(df1,df2, on='key')\n",
    "## Do this in a way that keeps all rows from each of the two DataFrames. \n",
    "## Call the new DataFrame gdp_and_internet_use. \n",
    "## Look at the first and last few rows to confirm that it merged correctly."
   ]
  },
  {
   "cell_type": "code",
   "execution_count": null,
   "id": "b9c01248-555c-40b6-80d8-03039f85a5cf",
   "metadata": {},
   "outputs": [],
   "source": []
  },
  {
   "cell_type": "code",
   "execution_count": null,
   "id": "37f44073-06ec-4489-8da2-5d834a063bbc",
   "metadata": {},
   "outputs": [],
   "source": [
    "#### Group by the 'A' column\n",
    "grouped = df.groupby('A')"
   ]
  },
  {
   "cell_type": "code",
   "execution_count": null,
   "id": "37586d00-e7e0-40fe-bfa0-b5d331704520",
   "metadata": {},
   "outputs": [],
   "source": [
    "df.groupby('Country')"
   ]
  }
 ],
 "metadata": {
  "kernelspec": {
   "display_name": "Python 3 (ipykernel)",
   "language": "python",
   "name": "python3"
  },
  "language_info": {
   "codemirror_mode": {
    "name": "ipython",
    "version": 3
   },
   "file_extension": ".py",
   "mimetype": "text/x-python",
   "name": "python",
   "nbconvert_exporter": "python",
   "pygments_lexer": "ipython3",
   "version": "3.12.7"
  }
 },
 "nbformat": 4,
 "nbformat_minor": 5
}
